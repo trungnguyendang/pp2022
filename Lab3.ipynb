{
  "nbformat": 4,
  "nbformat_minor": 0,
  "metadata": {
    "colab": {
      "name": "Lab3.ipynb",
      "provenance": [],
      "authorship_tag": "ABX9TyPw3J3O62eD0nzkMMID4jpH",
      "include_colab_link": true
    },
    "kernelspec": {
      "name": "python3",
      "display_name": "Python 3"
    },
    "language_info": {
      "name": "python"
    }
  },
  "cells": [
    {
      "cell_type": "markdown",
      "metadata": {
        "id": "view-in-github",
        "colab_type": "text"
      },
      "source": [
        "<a href=\"https://colab.research.google.com/github/trungnguyendang/pp2022/blob/master/Lab3.ipynb\" target=\"_parent\"><img src=\"https://colab.research.google.com/assets/colab-badge.svg\" alt=\"Open In Colab\"/></a>"
      ]
    },
    {
      "cell_type": "code",
      "source": [
        "# Definig a class student, which contain \n",
        "# name and Roll number and marks of the student\n",
        "import math\n",
        "\n",
        "class Student(object):\n",
        "    def __init__(self, name, id):\n",
        "        self.name = name\n",
        "        self.id = id\n",
        "\n",
        "    def getName(self):\n",
        "        return self.name\n",
        "\n",
        "    def getid(self):\n",
        "        return self.id\n",
        "    \n",
        "    def __str__(self):\n",
        "        return f\"Student name:{self.name} | Student ID:{str(self.getid())}\"\n",
        "class Course():\n",
        "  def __init__(self,Cname,Cid,credit):\n",
        "    self.Cname = Cname\n",
        "    self.Cid = Cid\n",
        "    self.credit = credit\n",
        "\n",
        "  def getCid(self):\n",
        "    return self.Cid\n",
        "    \n",
        "  def getCname(self):\n",
        "    return self.Cname\n",
        "\n",
        "  def getCredit(self):\n",
        "    return self.credit \n",
        "\n",
        "  def __str__(self):\n",
        "    return f\"Course Name: {self.Cname} | Course ID : {self.Cid} |  Number of Credit: {self.credit}\"\n",
        "# Defining a function for building a Record \n",
        "# which generates list of all the students    \n",
        "def SRec(record, name, id):\n",
        "    record.append(Student(name, id))\n",
        "    return record\n",
        "\n",
        "def CRec(record, Cname, Cid,credit):\n",
        "    record.append(Course(Cname, Cid,credit))\n",
        "    return record\n",
        "\n",
        "def GPA(midterm,finalterm):\n",
        "  x =math.floor(4/10 * midterm + 6/10 * finalterm)\n",
        "  return x\n",
        "\n",
        "\n",
        "# Main Code\n",
        "SRecordLst = []\n",
        "CRecordLst = []\n",
        "n = int(input(\"Enter number of student: \"))\n",
        "for i in range (n):\n",
        "  name = input('Enter the name of the student: ')\n",
        "  id = input('Enter student ID: ')\n",
        "  SRecordLst = SRec(SRecordLst, name, id)\n",
        "\n",
        "m = int(input(\"Enter number of course: \"))   \n",
        "for i in range(m):\n",
        "  Cname = input(\"Enter Course Name: \")\n",
        "  Cid = input(\"Enter course id: \")\n",
        "  credit = int(input(\"Enter number of credit : \"))\n",
        "  CRecordLst = CRec(CRecordLst,Cname,Cid,credit)\n",
        "\n",
        "# Printing the list of student\n",
        "print(\"-----Student Detail-----\")\n",
        "for obj in SRecordLst:\n",
        "    print(obj)\n",
        "# Printing the list of course\n",
        "print(\"-----Course Detail-----\")\n",
        "for obj in CRecordLst:\n",
        "    print(obj)\n",
        "\n",
        "#Asking for the student mark enroll in the course:\n",
        "d={}\n",
        "p = int(input(\"Enter number of student join in a course: \"))\n",
        "valid = False\n",
        "for i in range(p):\n",
        "  id = input(\"Student ID: \")\n",
        "  cid = input(\"Course ID: \")\n",
        "  midterm = int(input(\"Midterm mark: \"))\n",
        "  finalterm = int(input(\"Final mark: \"))\n",
        "  gpa = GPA(midterm,finalterm)\n",
        "  if cid in d:\n",
        "    d [cid].append ((id, midterm,finalterm,gpa))\n",
        "  else:\n",
        "    d [cid] = [(id, midterm,finalterm,gpa)]\n",
        "\n",
        "cid = input(\"Please enter course ID to see student mark of that course: \")\n",
        "if cid in d:\n",
        "  for obj in d[cid]:\n",
        "    print(f\"StudentID:{obj[0]} | Midterm Mark: {obj[1]} | Finalterm Mark: {obj[2]} | GPA: {obj[3]}\")\n"
      ],
      "metadata": {
        "id": "_dOboMl1glvi",
        "colab": {
          "base_uri": "https://localhost:8080/"
        },
        "outputId": "597f18a3-01cf-4099-c94a-5d18d9ee075a"
      },
      "execution_count": 17,
      "outputs": [
        {
          "output_type": "stream",
          "name": "stdout",
          "text": [
            "Enter number of student: 1\n",
            "Enter the name of the student: trung\n",
            "Enter student ID: s1\n",
            "Enter number of course: 1\n",
            "Enter Course Name: math\n",
            "Enter course id: m1\n",
            "Enter number of credit : 3\n",
            "-----Student Detail-----\n",
            "Student name:trung | Student ID:s1\n",
            "-----Course Detail-----\n",
            "Course Name: math | Course ID : m1 |  Number of Credit: 3\n",
            "Enter number of student join in a course: 1\n",
            "Student ID: s1\n",
            "Course ID: m1\n",
            "Midterm mark: 14\n",
            "Final mark: 16\n",
            "Please enter course ID to see student mark of that course: m1\n",
            "StudentID:s1 | Midterm Mark: 14 | Finalterm Mark: 16 | GPA: 15\n"
          ]
        }
      ]
    }
  ]
}