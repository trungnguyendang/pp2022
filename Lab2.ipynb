{
  "nbformat": 4,
  "nbformat_minor": 0,
  "metadata": {
    "colab": {
      "name": "Lab2.ipynb",
      "provenance": [],
      "authorship_tag": "ABX9TyNEElbqZT5/FaZKQ1Dj9o2f",
      "include_colab_link": true
    },
    "kernelspec": {
      "name": "python3",
      "display_name": "Python 3"
    },
    "language_info": {
      "name": "python"
    }
  },
  "cells": [
    {
      "cell_type": "markdown",
      "metadata": {
        "id": "view-in-github",
        "colab_type": "text"
      },
      "source": [
        "<a href=\"https://colab.research.google.com/github/trungnguyendang/pp2022/blob/master/Lab2.ipynb\" target=\"_parent\"><img src=\"https://colab.research.google.com/assets/colab-badge.svg\" alt=\"Open In Colab\"/></a>"
      ]
    },
    {
      "cell_type": "code",
      "source": [
        "#create student and course class\n",
        "class student():\n",
        "  def __init__(self,ID,Name,DOB):\n",
        "    self.ID = ID\n",
        "    self.Name = Name\n",
        "    self.DOB =DOB\n",
        "\n",
        "class course():\n",
        "\n",
        "  def __init__(self,cid,cname):\n",
        "    self.cid = cid\n",
        "    self.cname = cname\n",
        "\n",
        "\n",
        "# creating list       \n",
        "StudentLst = [] \n",
        "CourseLst = []\n",
        "\n",
        "#enter data in student list\n",
        "for i in range(int(input(\"Enter number of student: \"))):\n",
        "  StudentLst.append( student(input(\"Enter Student ame ?\"),int(input(\"Enter Student I:? \")),input(\"Enter student DOB: \")) )\n",
        "\n",
        "#enter data in course list\n",
        "for i in range(int(input(\"Enter number of course: \"))):\n",
        "  CourseLst.append( course(input(\"EnterCourse ID: \"),input(\"Enter course name: \")) )\n",
        "\n",
        "#create a dictionary\n",
        "d = {}\n",
        "n = int(input(\"Enter number of student join in a course: \"))\n",
        "valid = False\n",
        "for i in range(n):\n",
        "  ID = input(\"Student ID: \")\n",
        "  cid = input(\"Course ID: ?\")\n",
        "  marks = int(input(\"Mark: \"))\n",
        "  if cid in d:\n",
        "    d [cid].append ((ID, marks))\n",
        "  else:\n",
        "    d [cid] = [(ID, marks)]\n",
        "\n",
        "#print out\n",
        "for obj in StudentLst:\n",
        "  print( obj.ID,obj.Name,obj.DOB )\n",
        "\n",
        "for obj in CourseLst:\n",
        "  print(obj.cid,obj.cname)\n",
        "\n",
        "cid = input(\"Please enter course ID to see student mark of that course: \")\n",
        "if cid in d:\n",
        "  for obj in d[cid]:\n",
        "    print(obj[0],obj[1])"
      ],
      "metadata": {
        "id": "WKYfa1r8slan"
      },
      "execution_count": null,
      "outputs": []
    }
  ]
}